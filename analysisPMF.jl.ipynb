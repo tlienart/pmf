{
 "cells": [
  {
   "cell_type": "code",
   "execution_count": 2,
   "metadata": {
    "collapsed": true
   },
   "outputs": [],
   "source": [
    "using PyPlot\n",
    "using JLD\n",
    "\n",
    "using PDMP\n",
    "using Klara"
   ]
  },
  {
   "cell_type": "code",
   "execution_count": 30,
   "metadata": {},
   "outputs": [
    {
     "data": {
      "text/plain": [
       "Dict{String,Any} with 5 entries:\n",
       "  \"ev_secondbranch\" => 3\n",
       "  \"ev_firstbranch\"  => 9997\n",
       "  \"clocktime\"       => 6.71133\n",
       "  \"nevents\"         => 0\n",
       "  \"globalclock\"     => 1.61315e6"
      ]
     },
     "execution_count": 30,
     "metadata": {},
     "output_type": "execute_result"
    }
   ],
   "source": [
    "d = load(\"dex_lbps_pmf1.jld\")\n",
    "\n",
    "evl     = d[\"evlist\"]\n",
    "details = d[\"details\"]\n"
   ]
  },
  {
   "cell_type": "code",
   "execution_count": 3,
   "metadata": {
    "collapsed": true
   },
   "outputs": [],
   "source": [
    "function showHist(evl::Vector{PDMP.EventList}, vi::Int64, Ns::Int64, \n",
    "                    mu=0.0, sigma=1.0, lb=-10., ub=10.)\n",
    "    vi = 1\n",
    "    Ns = 5000\n",
    "    xs = PDMP.samplelocalpath(evl[vi], linspace(0,evl[vi].ts[end],Ns))\n",
    "\n",
    "    PyPlot.plt[:hist](xs,Int(ceil(0.5*sqrt(Ns))),normed=true)\n",
    "    \n",
    "    xx = linspace(-5,5,500)\n",
    "    yy = exp(-(xx-mu).^2/(2. * sigma^2))/sqrt(2pi * sigma^2)\n",
    "    plot(xx,yy)\n",
    "    nothing\n",
    "end\n",
    ";"
   ]
  },
  {
   "cell_type": "code",
   "execution_count": 13,
   "metadata": {},
   "outputs": [
    {
     "data": {
      "text/html": [
       "8.890000591333333e7"
      ],
      "text/plain": [
       "8.890000591333333e7"
      ]
     },
     "execution_count": 13,
     "metadata": {},
     "output_type": "execute_result"
    }
   ],
   "source": [
    "details[\"globalclock\"]"
   ]
  },
  {
   "cell_type": "code",
   "execution_count": 31,
   "metadata": {},
   "outputs": [
    {
     "data": {
      "text/html": [
       "12"
      ],
      "text/plain": [
       "12"
      ]
     },
     "execution_count": 31,
     "metadata": {},
     "output_type": "execute_result"
    }
   ],
   "source": [
    "length(evl)"
   ]
  },
  {
   "cell_type": "code",
   "execution_count": 32,
   "metadata": {},
   "outputs": [
    {
     "data": {
      "text/html": [
       "1440"
      ],
      "text/plain": [
       "1440"
      ]
     },
     "execution_count": 32,
     "metadata": {},
     "output_type": "execute_result"
    }
   ],
   "source": [
    "length(evl[1].xs)"
   ]
  },
  {
   "cell_type": "code",
   "execution_count": null,
   "metadata": {
    "collapsed": true
   },
   "outputs": [],
   "source": [
    "# 1 to 7 = Ui\n",
    "# 8 to 12 = Vj"
   ]
  },
  {
   "cell_type": "code",
   "execution_count": 33,
   "metadata": {},
   "outputs": [
    {
     "data": {
      "text/html": [
       "313.0892341268476"
      ],
      "text/plain": [
       "313.0892341268476"
      ]
     },
     "execution_count": 33,
     "metadata": {},
     "output_type": "execute_result"
    }
   ],
   "source": [
    "T = maximum(evl[i].ts[end] for i in 1:12)"
   ]
  },
  {
   "cell_type": "code",
   "execution_count": 34,
   "metadata": {
    "collapsed": true
   },
   "outputs": [],
   "source": [
    "ss = []\n",
    "\n",
    "for vi = 1:12\n",
    "\n",
    "    s = evl[vi].xs[1]*0.0\n",
    "    for i in 1:length(evl[vi].xs)-1\n",
    "        taui = (evl[vi].ts[i+1]-evl[vi].ts[i])\n",
    "        s   += evl[vi].xs[i]*taui + evl[vi].vs[i]*taui^2/2.0\n",
    "    end\n",
    "    s += evl[vi].xs[end]*(T - evl[vi].ts[end]) + evl[vi].vs[end]*(T - evl[vi].ts[end])^2/2.0\n",
    "\n",
    "    push!(ss,s/T)\n",
    "end"
   ]
  },
  {
   "cell_type": "code",
   "execution_count": 35,
   "metadata": {},
   "outputs": [
    {
     "data": {
      "text/html": [
       "-1.7953527596802568"
      ],
      "text/plain": [
       "-1.7953527596802568"
      ]
     },
     "execution_count": 35,
     "metadata": {},
     "output_type": "execute_result"
    }
   ],
   "source": [
    "dot(ss[1],ss[8])"
   ]
  },
  {
   "cell_type": "code",
   "execution_count": 36,
   "metadata": {},
   "outputs": [
    {
     "data": {
      "text/html": [
       "-1.0136249875674772"
      ],
      "text/plain": [
       "-1.0136249875674772"
      ]
     },
     "execution_count": 36,
     "metadata": {},
     "output_type": "execute_result"
    }
   ],
   "source": [
    "dot(ss[1],ss[9])"
   ]
  },
  {
   "cell_type": "code",
   "execution_count": 3,
   "metadata": {},
   "outputs": [
    {
     "data": {
      "text/plain": [
       "Dict{String,Any} with 5 entries:\n",
       "  \"ev_secondbranch\" => 0\n",
       "  \"ev_firstbranch\"  => 10000\n",
       "  \"clocktime\"       => 1487.69\n",
       "  \"nevents\"         => 0\n",
       "  \"globalclock\"     => 20.2147"
      ]
     },
     "execution_count": 3,
     "metadata": {},
     "output_type": "execute_result"
    }
   ],
   "source": [
    "d = load(\"dex_lbps_pmfbig2.jld\")\n",
    "\n",
    "evl     = d[\"evlist\"]\n",
    "details = d[\"details\"]\n"
   ]
  },
  {
   "cell_type": "code",
   "execution_count": 4,
   "metadata": {},
   "outputs": [
    {
     "data": {
      "text/html": [
       "3952"
      ],
      "text/plain": [
       "3952"
      ]
     },
     "execution_count": 4,
     "metadata": {},
     "output_type": "execute_result"
    }
   ],
   "source": [
    "nU = 6040\n",
    "nV = 3952"
   ]
  },
  {
   "cell_type": "code",
   "execution_count": 5,
   "metadata": {},
   "outputs": [
    {
     "data": {
      "text/html": [
       "0"
      ],
      "text/plain": [
       "0"
      ]
     },
     "execution_count": 5,
     "metadata": {},
     "output_type": "execute_result"
    }
   ],
   "source": [
    "length(evl) - (nU+nV)"
   ]
  },
  {
   "cell_type": "code",
   "execution_count": 7,
   "metadata": {},
   "outputs": [
    {
     "data": {
      "text/html": [
       "0.003550035476660277"
      ],
      "text/plain": [
       "0.003550035476660277"
      ]
     },
     "execution_count": 7,
     "metadata": {},
     "output_type": "execute_result"
    }
   ],
   "source": [
    "T = maximum(evl[i].ts[end] for i in 1:12)"
   ]
  },
  {
   "cell_type": "code",
   "execution_count": 26,
   "metadata": {},
   "outputs": [
    {
     "name": "stdout",
     "output_type": "stream",
     "text": [
      "dot(ss[1],ss[2]) = -0.26818701112587506\n",
      "dot(ss[1],ss[2]) = -0.7588134914752724\n",
      "dot(ss[1],ss[2]) = -6.160943407808115\n",
      "dot(ss[1],ss[2]) = 6.7412317558313815\n",
      "dot(ss[1],ss[2]) = 4.3032228583971985\n",
      "R[1:5,:] = [1 1193 5; 1 661 3; 1 914 3; 1 3408 4; 1 2355 5]\n"
     ]
    },
    {
     "data": {
      "text/plain": [
       "5×3 Array{Int64,2}:\n",
       " 1  1193  5\n",
       " 1   661  3\n",
       " 1   914  3\n",
       " 1  3408  4\n",
       " 1  2355  5"
      ]
     },
     "execution_count": 26,
     "metadata": {},
     "output_type": "execute_result"
    }
   ],
   "source": [
    "\n",
    "for j = [1193, 661, 914, 3408, 2355]\n",
    "    ss = []\n",
    "    for vi = [1,6040+j]\n",
    "\n",
    "        s = evl[vi].xs[1]*0.0\n",
    "        for i in 1:length(evl[vi].xs)-1\n",
    "            taui = (evl[vi].ts[i+1]-evl[vi].ts[i])\n",
    "            s   += evl[vi].xs[i]*taui + evl[vi].vs[i]*taui^2/2.0\n",
    "        end\n",
    "        s += evl[vi].xs[end]*(T - evl[vi].ts[end]) + evl[vi].vs[end]*(T - evl[vi].ts[end])^2/2.0\n",
    "\n",
    "        push!(ss,s/T)\n",
    "    end\n",
    "    @show dot(ss[1],ss[2])\n",
    "end\n",
    "@show R[1:5,:]"
   ]
  },
  {
   "cell_type": "code",
   "execution_count": 15,
   "metadata": {
    "collapsed": true
   },
   "outputs": [],
   "source": [
    "a = readdlm(\"data/ratings_filtered.csv\", ',', Int)\n",
    "R = a[:,1:3];"
   ]
  },
  {
   "cell_type": "code",
   "execution_count": 27,
   "metadata": {},
   "outputs": [
    {
     "data": {
      "text/plain": [
       "11×3 Array{Int64,2}:\n",
       " 6  2966  5\n",
       " 6   266  4\n",
       " 6    17  4\n",
       " 6  3699  4\n",
       " 6  1441  4\n",
       " 6  1088  5\n",
       " 6   912  4\n",
       " 6   199  5\n",
       " 6   914  5\n",
       " 6  3408  5\n",
       " 6  1806  3"
      ]
     },
     "execution_count": 27,
     "metadata": {},
     "output_type": "execute_result"
    }
   ],
   "source": [
    "R[500:510,:]"
   ]
  },
  {
   "cell_type": "code",
   "execution_count": 28,
   "metadata": {},
   "outputs": [
    {
     "name": "stdout",
     "output_type": "stream",
     "text": [
      "dot(ss[1],ss[2]) = 1.119383053583336\n",
      "dot(ss[1],ss[2]) = -5.914011483212761\n",
      "dot(ss[1],ss[2]) = -3.982211804119346\n",
      "dot(ss[1],ss[2]) = 6.770279103038423\n",
      "dot(ss[1],ss[2]) = 4.61672475295694\n",
      "dot(ss[1],ss[2]) = -3.8266467266875335\n",
      "dot(ss[1],ss[2]) = 0.8225007484474369\n",
      "dot(ss[1],ss[2]) = 8.84388005945737\n",
      "dot(ss[1],ss[2]) = 11.027364805391183\n",
      "dot(ss[1],ss[2]) = 3.058533786071976\n",
      "dot(ss[1],ss[2]) = -8.528943942674381\n",
      "R[500:510,end] = [5,4,4,4,4,5,4,5,5,5,3]\n"
     ]
    },
    {
     "data": {
      "text/plain": [
       "11-element Array{Int64,1}:\n",
       " 5\n",
       " 4\n",
       " 4\n",
       " 4\n",
       " 4\n",
       " 5\n",
       " 4\n",
       " 5\n",
       " 5\n",
       " 5\n",
       " 3"
      ]
     },
     "execution_count": 28,
     "metadata": {},
     "output_type": "execute_result"
    }
   ],
   "source": [
    "for j = R[500:510,2]\n",
    "    ss = []\n",
    "    for vi = [6,6040+j]\n",
    "\n",
    "        s = evl[vi].xs[1]*0.0\n",
    "        for i in 1:length(evl[vi].xs)-1\n",
    "            taui = (evl[vi].ts[i+1]-evl[vi].ts[i])\n",
    "            s   += evl[vi].xs[i]*taui + evl[vi].vs[i]*taui^2/2.0\n",
    "        end\n",
    "        s += evl[vi].xs[end]*(T - evl[vi].ts[end]) + evl[vi].vs[end]*(T - evl[vi].ts[end])^2/2.0\n",
    "\n",
    "        push!(ss,s/T)\n",
    "    end\n",
    "    @show dot(ss[1],ss[2])\n",
    "end\n",
    "@show R[500:510,end]"
   ]
  },
  {
   "cell_type": "code",
   "execution_count": 30,
   "metadata": {},
   "outputs": [
    {
     "data": {
      "text/html": [
       "43.918102774649846"
      ],
      "text/plain": [
       "43.918102774649846"
      ]
     },
     "execution_count": 30,
     "metadata": {},
     "output_type": "execute_result"
    }
   ],
   "source": [
    "rmse = 0.0\n",
    "\n",
    "for k in 1:size(R,1)\n",
    "    ui = R[k,1]\n",
    "    vj = R[k,2] + nU\n",
    "    \n",
    "    su = evl[ui].xs[1]*0.0\n",
    "    for i in 1:length(evl[ui].xs)-1\n",
    "        taui = (evl[ui].ts[i+1]-evl[ui].ts[i])\n",
    "        su  += evl[ui].xs[i]*taui + evl[ui].vs[i]*taui^2/2.0\n",
    "    end\n",
    "    su += evl[ui].xs[end]*(T - evl[ui].ts[end]) + evl[ui].vs[end]*(T - evl[ui].ts[end])^2/2.0\n",
    "    su /= T\n",
    "    \n",
    "    sv = evl[vj].xs[1]*0.0\n",
    "    for i in 1:length(evl[vj].xs)-1\n",
    "        taui = (evl[vj].ts[i+1]-evl[vj].ts[i])\n",
    "        sv  += evl[vj].xs[i]*taui + evl[vj].vs[i]*taui^2/2.0\n",
    "    end\n",
    "    sv += evl[vj].xs[end]*(T - evl[vj].ts[end]) + evl[vj].vs[end]*(T - evl[vj].ts[end])^2/2.0\n",
    "    sv /= T\n",
    "    \n",
    "    rmse += (R[k,end]-dot(su,sv))^2\n",
    "end\n",
    "\n",
    "sqrt(rmse/size(R,1))\n",
    "\n",
    "# put negative stuff to zero?"
   ]
  },
  {
   "cell_type": "code",
   "execution_count": 32,
   "metadata": {},
   "outputs": [
    {
     "data": {
      "text/html": [
       "0.8621505956254085"
      ],
      "text/plain": [
       "0.8621505956254085"
      ]
     },
     "execution_count": 32,
     "metadata": {},
     "output_type": "execute_result"
    }
   ],
   "source": [
    "rmse = 0.0\n",
    "\n",
    "for k in 1:size(R,1)\n",
    "    ui = R[k,1]\n",
    "    vj = R[k,2] + nU\n",
    "    \n",
    "    su = evl[ui].xs[1]*0.0\n",
    "    for i in 1:length(evl[ui].xs)-1\n",
    "        taui = (evl[ui].ts[i+1]-evl[ui].ts[i])\n",
    "        su  += evl[ui].xs[i]*taui + evl[ui].vs[i]*taui^2/2.0\n",
    "    end\n",
    "    su += evl[ui].xs[end]*(T - evl[ui].ts[end]) + evl[ui].vs[end]*(T - evl[ui].ts[end])^2/2.0\n",
    "    su /= T\n",
    "    \n",
    "    sv = evl[vj].xs[1]*0.0\n",
    "    for i in 1:length(evl[vj].xs)-1\n",
    "        taui = (evl[vj].ts[i+1]-evl[vj].ts[i])\n",
    "        sv  += evl[vj].xs[i]*taui + evl[vj].vs[i]*taui^2/2.0\n",
    "    end\n",
    "    sv += evl[vj].xs[end]*(T - evl[vj].ts[end]) + evl[vj].vs[end]*(T - evl[vj].ts[end])^2/2.0\n",
    "    sv /= T\n",
    "    \n",
    "    dsusv = dot(su,sv)\n",
    "    dsusv = dsusv>5?5:dsusv<0?0:dsusv\n",
    "    rmse += (R[k,end]-dsusv>0)^2\n",
    "end\n",
    "\n",
    "sqrt(rmse/size(R,1))\n",
    "\n",
    "# put negative stuff to zero?"
   ]
  },
  {
   "cell_type": "code",
   "execution_count": null,
   "metadata": {
    "collapsed": true
   },
   "outputs": [],
   "source": []
  }
 ],
 "metadata": {
  "kernelspec": {
   "display_name": "Julia 0.5.1",
   "language": "julia",
   "name": "julia-0.5"
  },
  "language_info": {
   "file_extension": ".jl",
   "mimetype": "application/julia",
   "name": "julia",
   "version": "0.5.1"
  }
 },
 "nbformat": 4,
 "nbformat_minor": 2
}
